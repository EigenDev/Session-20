{
 "cells": [
  {
   "cell_type": "markdown",
   "metadata": {},
   "source": [
    "# Introduction to Time Series: Lomb Scargle Periodograms I\n",
    "\n",
    "Sarah Blunt, CIERA/Northwestern\n",
    "\n",
    "Presented at LSST Discovery Alliance Data Science Fellowship Program Session 20: Time Series\n",
    "\n",
    "This lesson draws heavily from Jake van der Plas' excellent paper, \"Underrstanding the Lomb-Scargle Periodogram,\" and all figures are taken directly\n",
    "from that paper unless otherwise noted. \n",
    "\n",
    "https://arxiv.org/abs/1703.09824\n",
    "\n",
    "#### Goals for this Lesson:\n",
    "By the end of this lesson, you will be able to:\n",
    "- explain the purpose of the Lomb-Scargle periodogram\n",
    "- explain the difference between the Fourier transform and the PSD\n",
    "- reason about the effect of a window function on an observed signal in the time and frequency domains\n",
    "- identify common astronomical patterns in real window functions\n",
    "\n",
    "### I: Motivation\n",
    "(10 mins)\n",
    "\n",
    "The Fourier transform is defined for continuous data with a known functional form. However, real data are messy, and we usually don't know the underlying functional form. Let's take a look at an example of a real dataset we might want to analyze and identify some problems we might run into constucting a power spectrum.\n",
    "\n",
    "![data-example](data-and-images/vanderPlas-fig1.jpg)\n",
    "\n",
    "What are some problems you notice?\n",
    "- Discrete samples (i.e. not continuous)\n",
    "- Non-uniform sampling\n",
    "- Error bars exist\n",
    "- The error bars are different sizes\n",
    "- There are big gaps in the data\n",
    "- The gaps themselves are somewhat periodic (day/night, and also when the object is visible in the sky)\n",
    "\n",
    "The Lomb-Scargle (LS) periodogram provides a framework for analyzing datasets like this one. However, it's not a perfect tool! The more you understand about how it works, the less likely you will be to misinterpret a LS periodogram. \n",
    "\n",
    "Why are we choosing to focus on the Lomb-Scargle periodogram? There are many, many other methods for detecting periodicity in \"real\" data, which broadly fall into the following categories:\n",
    "- Fourier methods, which are derived from the Fourier transform\n",
    "- Phase-folding methods\n",
    "- Least-squares methods, and\n",
    "- Bayesian methods\n",
    "\n",
    "These are not really separate categories; for example, one can construct a probability function using a phase-folding or least-squares method, then incorporate it into a Bayesian analysis. There are two main reasons that we are devoting so much time to the LS periodogram:\n",
    "\n",
    "Reason #1: It's super popular! You are very likely to encounter the LS periogoram in time-series analysis, so it's important to have a solid understanding.\n",
    "\n",
    "Reason #2: It is related to all four \"classes\" of methods above. It can be derived from Fourier theory (which we will show), and can also be viewed as a least-squares method (which we will also show). We won't discuss this, but it can also be derived from Bayesian probability theory and is closely related to phase-folding techniques. Therefore, gaining intuition about the LS periodogram will help you understand many of these methods, and give you a baseline for understanding other techniques."
   ]
  },
  {
   "cell_type": "markdown",
   "metadata": {},
   "source": [
    "### II: Brief Review of the Continuous Fourier Transform\n",
    "(15 mins)\n",
    "\n",
    "We will derive the LS periodogram from Fourier analysis, so let's briefly restate some necessary background.\n",
    "\n",
    "Let's begin by motivating the power spectral density (PSD). As it turns out, the LS periodogram is an estimator of the PSD, so it is important to understand why we would like to estimate the PSD in the first place. \n",
    "\n",
    "#### The Power Spectral Density (PSD)\n",
    "\n",
    "The Fourier transform of a periodic cosine function is:\n",
    "\n",
    "$$\n",
    "\\mathcal{F}\\left\\{\\cos \\left(2 \\pi f_0 t\\right)\\right\\}=\\frac{1}{2}\\left[\\delta\\left(f-f_0\\right)+\\delta\\left(f+f_0\\right)\\right]\n",
    "$$\n",
    "\n",
    "In words, the Fourier transform of a periodic function is the sum of two delta functions: one centered at $-f_0$ and one at $+f_0$. The Fourier transform of a periodic sine function, on the other hand, is:\n",
    "\n",
    "$$\n",
    "\\mathcal{F}\\left\\{\\sin \\left(2 \\pi f_0 t\\right)\\right\\}=\\frac{1}{2i}\\left[\\delta\\left(f-f_0\\right)-\\delta\\left(f+f_0\\right)\\right],\n",
    "$$\n",
    "\n",
    "which is actually just $\\mathcal{F}\\left\\{\\cos \\left(2 \\pi f_0 t\\right)\\right\\}$ multiplied by $e^{-2\\pi i f (\\pi/2)}$. Notice that $\\mathcal{F}\\left\\{\\cos \\left(2 \\pi f_0 t\\right)\\right\\}$ is purely real, and $\\mathcal{F}\\left\\{\\sin \\left(2 \\pi f_0 t\\right)\\right\\}$ is purely imaginary. \n",
    "\n",
    "This motivates the definition of the power spectral density (PSD), which is the **squared magnitude of the Fourier transform**:\n",
    "\n",
    "$$\n",
    "\\mathcal{P}_g \\equiv|\\mathcal{F}\\{g\\}|^2\n",
    "$$\n",
    "\n",
    "While the Fourier transform is a complex number (part real and part imaginary), the PSD is a *real, positive number*. It retains useful properties of the Fourier transform, while being insensitive to time shifts. In other words, while $\\mathcal{F}\\left\\{\\cos \\left(2 \\pi f_0 t\\right)\\right\\}$ and $\\mathcal{F}\\left\\{\\sin \\left(2 \\pi f_0 t\\right)\\right\\}$ have different Fourier transforms, they have the same PSD. This allows you to use the PSD to identify the frequencies making up a signal without worrying about the time-shift.\n",
    "\n",
    "### The Convolution Theorem\n",
    "As Bryan discussed, **convolution** in the time domain is the same as a pointwise product in the frequency domain (this is called the \"convolution theorem\"). Convolution is a mathematical operation (like addition or multiplication) that operates on two functions: it acts to \"slide\" one past the other. Understanding convolution (and the Fourier equivalence) will be immensely helpful in understanding what sampling does to a signal, so let's look at some visual representations of convolution and the convolution theorem.\n",
    "\n",
    "Here's the mathematical definition of the convolution of a function $f$ with a function $g$:\n",
    "\n",
    "$[f * g](t) \\equiv \\int_{-\\infty}^{\\infty} f(\\tau) g(t-\\tau) d \\tau$\n",
    "\n",
    "And here is the convolution theorem:\n",
    "\n",
    "$\\mathcal{F}\\{f * g\\}=\\mathcal{F}\\{f\\} \\cdot \\mathcal{F}\\{g\\}$\n",
    "\n",
    "Here's a visualization of what the convolution operation looks like:\n",
    "\n",
    "![data-example](data-and-images/vanderPlas-fig4.jpg)\n",
    "\n",
    "And here's an example of what the convolution theorem looks like. On the left, the black and grey curves represent the real and imaginary parts of the Fourier transforms (respectively).\n",
    "\n",
    "![data-example](data-and-images/vanderPlas-fig5.jpeg)"
   ]
  },
  {
   "cell_type": "markdown",
   "metadata": {},
   "source": [
    "### III: The Effect of a Uniform Observing Window\n",
    "(10 mins)\n",
    "\n",
    "When we observe a continuous signal, we can reason through what happens to the Fourier transform by thinking of making a pointwise product of the true signal with the observing cadence. Thus, the Fourier transform of our observed signal is the *convolution* of the Fourier transforms of the signal itself *and* the observing window. As a first example, consider observing a a continuous signal for a finite time:\n",
    "\n",
    "![data-example](data-and-images/vanderPlas-fig6.jpg)\n",
    "\n",
    "Next, consider observing a continuous example at N equally spaced times (delta functions), forever:\n",
    "\n",
    "![data-example](data-and-images/vanderPlas-fig7.jpg)\n",
    "\n",
    "In astronomy, (if we're lucky!) we get an observing window (often called a window function) that looks like the pointwise product of both of these effects: a finite window over which we observe (say, from dusk until dawn), and several instantaneous equally spaced observations over the course of the night. We're getting closer to approximating real observing conditions, but we still have a ways to go. \n",
    "\n",
    "Side note: this line of reasoning allows you to derive the *discrete* Fourier transform. "
   ]
  },
  {
   "cell_type": "markdown",
   "metadata": {},
   "source": [
    "### IV: The Effect of Nonuniform Sampling\n",
    "(5 mins)\n",
    "\n",
    "The Fourier transform of random noise is random noise. Ergo, if you make measurements at random times, the Fourier transform of your window function will appear random. Observe: \n",
    "\n",
    "![data-example](data-and-images/vanderPlas-fig9.jpg)\n",
    "\n",
    "Imagine you're looking at the bottom panel only and trying to reconstruct the signal. What could you do to improve the reconstruction?\n",
    "- increase sampling cadence!\n",
    "\n",
    "![data-example](data-and-images/vanderPlas-fig10.jpg)\n",
    "\n",
    "There are still \"imperfections\" that are characteristic of random sampling, in particular \"noisy-ness\" in the observed Fourier transform. However, densely sampling the signal does, as expected, produce a Fourier transform much closer to the true signal."
   ]
  },
  {
   "cell_type": "markdown",
   "metadata": {},
   "source": [
    "### V: The Effect of Semistructured Observing Windows\n",
    "(10 mins)\n",
    "\n",
    "Many astronomical observations are neither uniform nor nonuniform, but a secret third thing: semi-uniform. This means that there are periodic patterns in your data, but there's randomness on top of them. For example, when observing from the ground, you can only see stars during the night. However, during the time a star is visible, you might observe uniformly. So, your data will have some periodic structure, but also randomness! Let's take a look at how some of these patterns manifest in real data.\n",
    "\n",
    "Here is an example of a real window function from a ground-based observing campaign. What do you notice? How do you explain each signal?\n",
    "\n",
    "![data-example](data-and-images/vanderPlas-fig13.jpg)\n",
    "\n",
    "- strong peak at 1 day: only observing at night\n",
    "- strong peaks at 1/N days: separation between observations within the night\n",
    "- peak at 14 days: probably related to scheduling\n",
    "- peak at 365 days: star is only up in the sky certain times of year\n",
    "\n",
    "Now, let's take a look at how this window function is imprinted on real periodic data. The signal being convolved with this window function has a single major frequency at 2.58 hours = 0.1075 days (frequency 9.30 d^-1):\n",
    "\n",
    "![data-example](data-and-images/vanderPlas-fig14.jpg)\n",
    "\n",
    "Think-pair-share: why are these symmetric peaks on either side of the main frequency?"
   ]
  },
  {
   "cell_type": "markdown",
   "metadata": {},
   "source": [
    "## Problems:\n",
    "\n",
    "Prioritize questions 1-4, and if you have extra time go on to question 5. If you finish all of them, work on a cool visualization of the convolution theorem so I can use it in my lesson in the future! :D\n",
    "\n",
    "1. I had to include one derivation question lol.\n",
    "\n",
    "   a. Show that the PSD of an arbitrary function does not change if it is shifted in time. Hint: Plug the equation for a time-shifted function, $f(t - \\tau)$ into the definition of the Fourier transform, then make the substitution $t_0$ = $t$ + $\\tau$.\n",
    "\n",
    "   b. Write a sentence about why this result is important for time series analysis.\n",
    "\n",
    "2. You've heard of chi-by-eye? You're about to convolve by eye... Mind. Blown.\n",
    "\n",
    "   a. In Python, plot the sum of a few arbitrary sinusoids between 0 and 1. \n",
    "\n",
    "   b. What would your function look like when convolved with a top hat function? How about a Gaussian? Without coding up the answer, draw what you expect for each case. \n",
    "   \n",
    "   c. Check your expectation by coding and plotting the convolution (you can use numpy.convolve). How does this change when you make the top hat or Gaussian width smaller?\n",
    "\n",
    "3. Make your own realistic observing conditions! Who needs telescopes?\n",
    "\n",
    "   a. In Python, generate some uniform random observation times spanning 1 year, and sample a sinusoid with a period of 10 hours at these observation times. I recommend generating 10,000 data points.\n",
    "\n",
    "   b. Plot the Lomb Scargle periodogram of your data (use the `autopower()` functionality of `astropy.timeseries.LombScargle`). Write a sentence explaining the structure you see.\n",
    "   \n",
    "   c. Mask out data during the hours of 12am to 12pm, and plot the new Lomb Scargle periodogram. Write a sentence explaining the new structure you see.\n",
    "   \n",
    "   d. Given a quasi-uniform sampling frequency $f_{0}$ and a signal frequency $f$, what are the frequencies of the aliases you will observe?\n",
    "\n",
    "4. In part III, we discussed two effects of real observing: the effect of a finite observation window, and the effect of a sequence of equally-spaced observations. Sketch the effect (literally draw, don't use Python) of both of these effects on an observation of a cosine function:\n",
    "\n",
    "   a. Draw the cosine function in the time domain and the Fourier domain. \n",
    "\n",
    "   b. Draw the window function of a finite number of equally spaced observations.\n",
    "   \n",
    "   c. Draw the observed signal and its Fourier transform. "
   ]
  },
  {
   "cell_type": "code",
   "execution_count": 19,
   "metadata": {},
   "outputs": [],
   "source": [
    "import numpy as np\n",
    "import matplotlib.pyplot as plt \n",
    "from astropy import constants, units\n",
    "from astropy.timeseries import LombScargle\n",
    "plt.rcParams.update({\n",
    "\"text.usetex\": True,\n",
    "\"font.family\": \"Times New Roman\"\n",
    "})"
   ]
  },
  {
   "cell_type": "code",
   "execution_count": 92,
   "metadata": {},
   "outputs": [],
   "source": [
    "rng = np.random.default_rng()\n",
    "nobs = 10000\n",
    "obs = np.random.random(size=nobs)\n",
    "# tobs = np.linspace(0, 1, nobs) * units.yr \n",
    "tobs = 1 * units.yr * rng.random(size=nobs) # samples at irregular times\n",
    "noise = 0.1"
   ]
  },
  {
   "cell_type": "code",
   "execution_count": 93,
   "metadata": {},
   "outputs": [],
   "source": [
    "freq = 1 / (10.0 * units.hr)\n",
    "samples = np.sin(2.0 * np.pi * freq.value * tobs.to(units.hr).value)  + noise * rng.standard_normal(size=nobs)"
   ]
  },
  {
   "cell_type": "code",
   "execution_count": 94,
   "metadata": {},
   "outputs": [
    {
     "data": {
      "text/plain": [
       "(1, 100)"
      ]
     },
     "execution_count": 94,
     "metadata": {},
     "output_type": "execute_result"
    },
    {
     "data": {
      "image/png": "[encoded data removed]",
      "text/plain": [
       "<Figure size 640x480 with 1 Axes>"
      ]
     },
     "metadata": {},
     "output_type": "display_data"
    }
   ],
   "source": [
    "fig, ax = plt.subplots(1,1)\n",
    "ax.scatter(tobs.to(units.hr), samples)\n",
    "ax.set_xscale('log')\n",
    "ax.set_ylabel('sinusoid')\n",
    "ax.set_xlabel(r'$t_{\\rm obs}$ [hr]')\n",
    "ax.set_xlim(1, 100)"
   ]
  },
  {
   "cell_type": "code",
   "execution_count": 95,
   "metadata": {},
   "outputs": [
    {
     "data": {
      "text/plain": [
       "Text(0, 0.5, 'Power')"
      ]
     },
     "execution_count": 95,
     "metadata": {},
     "output_type": "execute_result"
    },
    {
     "data": {
      "image/png": "[encoded data removed]",
      "text/plain": [
       "<Figure size 640x480 with 1 Axes>"
      ]
     },
     "metadata": {},
     "output_type": "display_data"
    }
   ],
   "source": [
    "frequency, power = LombScargle(tobs.to(units.hr), samples).autopower()\n",
    "fig, ax = plt.subplots(1, 1)\n",
    "ax.plot(frequency, power) \n",
    "ax.set_yscale('log')\n",
    "ax.set_xlabel('Frequency [hr$^{-1}$]')\n",
    "ax.set_ylabel('Power')"
   ]
  },
  {
   "cell_type": "code",
   "execution_count": 96,
   "metadata": {},
   "outputs": [
    {
     "data": {
      "text/latex": [
       "$0.10000637 \\; \\mathrm{\\frac{1}{h}}$"
      ],
      "text/plain": [
       "<Quantity 0.10000637 1 / h>"
      ]
     },
     "execution_count": 96,
     "metadata": {},
     "output_type": "execute_result"
    }
   ],
   "source": [
    "peak_freq = frequency[np.argmax(power)]\n",
    "peak_freq"
   ]
  },
  {
   "cell_type": "markdown",
   "metadata": {},
   "source": [
    "The power shows a peak at around 0.1 cycles per year, which is exactly the input freq we have"
   ]
  },
  {
   "cell_type": "code",
   "execution_count": 111,
   "metadata": {},
   "outputs": [],
   "source": [
    "nintervals = 365 # number of 12 hr intervals in a year\n",
    "intervals = []\n",
    "i = 0\n",
    "for pair in range(nintervals):\n",
    "    intervals += [[i, i + 12]]\n",
    "    i += 24\n",
    "\n",
    "def masked_obs(tobs, obs):\n",
    "    mask = obs.copy()\n",
    "    t = tobs.to(units.hr).value\n",
    "    for interval in intervals:\n",
    "        where = (interval[0] <= t) & (t <= interval[1])\n",
    "        mask[where] = 0.0\n",
    "    return mask\n",
    "    \n",
    "mask = masked_obs(tobs, samples)"
   ]
  },
  {
   "cell_type": "code",
   "execution_count": 114,
   "metadata": {},
   "outputs": [
    {
     "data": {
      "text/plain": [
       "Text(0, 0.5, 'Power')"
      ]
     },
     "execution_count": 114,
     "metadata": {},
     "output_type": "execute_result"
    },
    {
     "data": {
      "image/png": "[encoded data removed]",
      "text/plain": [
       "<Figure size 640x480 with 1 Axes>"
      ]
     },
     "metadata": {},
     "output_type": "display_data"
    }
   ],
   "source": [
    "frequency, power = LombScargle(tobs.to(units.hr), mask).autopower()\n",
    "fig, ax = plt.subplots(1, 1)\n",
    "ax.plot(frequency, power) \n",
    "ax.set_yscale('log')\n",
    "ax.set_xlabel('Frequency [hr$^{-1}$]')\n",
    "ax.set_ylabel('Power')"
   ]
  },
  {
   "cell_type": "code",
   "execution_count": 115,
   "metadata": {},
   "outputs": [
    {
     "data": {
      "text/latex": [
       "$0.10000637 \\; \\mathrm{\\frac{1}{h}}$"
      ],
      "text/plain": [
       "<Quantity 0.10000637 1 / h>"
      ]
     },
     "execution_count": 115,
     "metadata": {},
     "output_type": "execute_result"
    }
   ],
   "source": [
    "peak_freq = frequency[np.argmax(power)]\n",
    "peak_freq"
   ]
  },
  {
   "cell_type": "code",
   "execution_count": null,
   "metadata": {},
   "outputs": [],
   "source": []
  }
 ],
 "metadata": {
  "kernelspec": {
   "display_name": "Python 3 (ipykernel)",
   "language": "python",
   "name": "python3"
  },
  "language_info": {
   "codemirror_mode": {
    "name": "ipython",
    "version": 3
   },
   "file_extension": ".py",
   "mimetype": "text/x-python",
   "name": "python",
   "nbconvert_exporter": "python",
   "pygments_lexer": "ipython3",
   "version": "3.12.0"
  }
 },
 "nbformat": 4,
 "nbformat_minor": 4
}
