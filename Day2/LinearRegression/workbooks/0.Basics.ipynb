{
 "cells": [
  {
   "cell_type": "markdown",
   "id": "9990533b-2876-4117-8957-6b350f721643",
   "metadata": {},
   "source": [
    "# Basics\n",
    "\n",
    "In this workbook we'll try to walk through some basics of the linear regression models shown in the tutorial."
   ]
  },
  {
   "cell_type": "code",
   "execution_count": 5,
   "id": "2f7abbf8-8707-49f7-81e3-0ee32ae0a6ad",
   "metadata": {
    "tags": []
   },
   "outputs": [],
   "source": [
    "import numpy as np\n",
    "import matplotlib.pyplot as plt\n",
    "import pickle\n",
    "plt.rcParams.update({\n",
    "    \"text.usetex\": True,\n",
    "    \"font.family\": \"Times New Roman\"\n",
    "})"
   ]
  },
  {
   "cell_type": "code",
   "execution_count": 6,
   "id": "9d7302ef-fbb4-467e-8db7-ab09898dc14c",
   "metadata": {
    "tags": []
   },
   "outputs": [],
   "source": [
    "workbook_data = pickle.load(open('data/workbook_0.p', 'rb'))\n",
    "x, y, ye = workbook_data['x'], workbook_data['y'], workbook_data['ye']"
   ]
  },
  {
   "cell_type": "code",
   "execution_count": 7,
   "id": "fa4a4def-d320-4b15-9c64-e23dfc5634b7",
   "metadata": {
    "tags": []
   },
   "outputs": [
    {
     "data": {
      "text/plain": [
       "[Text(0.5, 0, 'x'), Text(0, 0.5, 'y'), Text(0.5, 1.0, 'Fake Data')]"
      ]
     },
     "execution_count": 7,
     "metadata": {},
     "output_type": "execute_result"
    },
    {
     "data": {
      "image/png": "[encoded data removed]",
      "text/plain": [
       "<Figure size 640x480 with 1 Axes>"
      ]
     },
     "metadata": {},
     "output_type": "display_data"
    }
   ],
   "source": [
    "fig, ax = plt.subplots()\n",
    "ax.errorbar(x, y, ye, color='k')\n",
    "ax.set(xlabel='x', ylabel='y', title='Fake Data')"
   ]
  },
  {
   "cell_type": "markdown",
   "id": "e0494513-9c7d-43d0-a517-853af2cac532",
   "metadata": {},
   "source": [
    "## Step 1: Create a design matrix\n",
    "\n",
    "Create a design matrix for the data above. The design matrix should be a **3rd order polynomial**. The order of the vectors in the design matrix should be $x^0$, $x^1$, ... , $x^n$.\n",
    "\n",
    "Overwrite `A` below to be your design matrix."
   ]
  },
  {
   "cell_type": "code",
   "execution_count": 8,
   "id": "b77caa92-ea55-4e0b-acb5-ca17f3fe67c3",
   "metadata": {
    "tags": []
   },
   "outputs": [],
   "source": [
    "porder = 4\n",
    "A = np.vstack([\n",
    "    x ** order for order in range(porder)\n",
    "]).T"
   ]
  },
  {
   "cell_type": "code",
   "execution_count": 15,
   "id": "253a574f-88c6-45d4-a93b-fd7de2bf75cc",
   "metadata": {
    "tags": []
   },
   "outputs": [],
   "source": [
    "assert isinstance(A, np.ndarray)\n",
    "assert np.all([np.allclose(a, x**idx) for idx, a in enumerate(A.T)])"
   ]
  },
  {
   "cell_type": "markdown",
   "id": "2a877e42-08f0-4a74-a572-1e177c3e2fe0",
   "metadata": {
    "tags": []
   },
   "source": [
    "## Step 2: Find the best fitting weights\n",
    "Use the Weighted Least Squares equation to find the mean best fitting weights. \n",
    "\n",
    "Overwrite `w` below to be your mean best fitting weights. "
   ]
  },
  {
   "cell_type": "code",
   "execution_count": 16,
   "id": "4c3dc3df-8bc3-4cdf-8334-594c36b37148",
   "metadata": {
    "tags": []
   },
   "outputs": [],
   "source": [
    "w = w = np.linalg.solve(A.T.dot(A), A.T.dot(y))"
   ]
  },
  {
   "cell_type": "code",
   "execution_count": 17,
   "id": "7b9c2421-79d2-4256-874e-4222c1b405eb",
   "metadata": {
    "tags": []
   },
   "outputs": [],
   "source": [
    "assert np.isclose(w, workbook_data['true_w'], atol=3*np.linalg.inv(A.T.dot(A/ye[:, None]**2)).diagonal()**0.5).all()"
   ]
  },
  {
   "cell_type": "markdown",
   "id": "518cf6ca-5bfe-4d7d-b147-0ce0870f0f95",
   "metadata": {},
   "source": [
    "## Step 3: Find the errors on the best fitting weights\n",
    "\n",
    "Calculate the errors on the best fitting weights (i.e. the standard deviation of the distribution of the best fitting weights.)\n",
    "\n",
    "Overwrite `w_err` below with your best fitting weights "
   ]
  },
  {
   "cell_type": "code",
   "execution_count": 8,
   "id": "d74203e3-c635-4e5d-826f-15bd9b090ea1",
   "metadata": {
    "tags": []
   },
   "outputs": [],
   "source": [
    "w_err = None"
   ]
  },
  {
   "cell_type": "code",
   "execution_count": 9,
   "id": "660d2c76-6478-426c-89aa-f7b2f510e8f1",
   "metadata": {
    "tags": []
   },
   "outputs": [],
   "source": [
    "assert len(w_err) == len(w)\n",
    "assert np.allclose(w_err, np.asarray([3.18224571, 0.91858162, 0.07118683, 0.01403367]), atol=0.3)"
   ]
  },
  {
   "cell_type": "markdown",
   "id": "0666fc12-d35c-4a4c-a575-387d231115a6",
   "metadata": {},
   "source": [
    "## Step 4: Calculate the model outside of the data bounds\n",
    "\n",
    "Use your best fitting weights to calculate the mean model at position $x = 11$.\n",
    "\n",
    "Overwrite `y_11` below with your answer. "
   ]
  },
  {
   "cell_type": "code",
   "execution_count": 31,
   "id": "b539f4c9-142b-486b-aae1-31a81d6a8c2c",
   "metadata": {
    "tags": []
   },
   "outputs": [
    {
     "data": {
      "text/plain": [
       "array([[ 1.000000e+00, -2.100000e+01,  4.410000e+02, -9.261000e+03],\n",
       "       [ 1.000000e+00, -2.090000e+01,  4.368100e+02, -9.129329e+03],\n",
       "       [ 1.000000e+00, -2.080000e+01,  4.326400e+02, -8.998912e+03],\n",
       "       [ 1.000000e+00, -2.070000e+01,  4.284900e+02, -8.869743e+03],\n",
       "       [ 1.000000e+00, -2.060000e+01,  4.243600e+02, -8.741816e+03],\n",
       "       [ 1.000000e+00, -2.050000e+01,  4.202500e+02, -8.615125e+03],\n",
       "       [ 1.000000e+00, -2.040000e+01,  4.161600e+02, -8.489664e+03],\n",
       "       [ 1.000000e+00, -2.030000e+01,  4.120900e+02, -8.365427e+03],\n",
       "       [ 1.000000e+00, -2.020000e+01,  4.080400e+02, -8.242408e+03],\n",
       "       [ 1.000000e+00, -2.010000e+01,  4.040100e+02, -8.120601e+03],\n",
       "       [ 1.000000e+00, -2.000000e+01,  4.000000e+02, -8.000000e+03],\n",
       "       [ 1.000000e+00, -1.990000e+01,  3.960100e+02, -7.880599e+03],\n",
       "       [ 1.000000e+00, -1.980000e+01,  3.920400e+02, -7.762392e+03],\n",
       "       [ 1.000000e+00, -1.970000e+01,  3.880900e+02, -7.645373e+03],\n",
       "       [ 1.000000e+00, -1.960000e+01,  3.841600e+02, -7.529536e+03],\n",
       "       [ 1.000000e+00, -1.950000e+01,  3.802500e+02, -7.414875e+03],\n",
       "       [ 1.000000e+00, -1.940000e+01,  3.763600e+02, -7.301384e+03],\n",
       "       [ 1.000000e+00, -1.930000e+01,  3.724900e+02, -7.189057e+03],\n",
       "       [ 1.000000e+00, -1.920000e+01,  3.686400e+02, -7.077888e+03],\n",
       "       [ 1.000000e+00, -1.910000e+01,  3.648100e+02, -6.967871e+03],\n",
       "       [ 1.000000e+00, -1.900000e+01,  3.610000e+02, -6.859000e+03],\n",
       "       [ 1.000000e+00, -1.890000e+01,  3.572100e+02, -6.751269e+03],\n",
       "       [ 1.000000e+00, -1.880000e+01,  3.534400e+02, -6.644672e+03],\n",
       "       [ 1.000000e+00, -1.870000e+01,  3.496900e+02, -6.539203e+03],\n",
       "       [ 1.000000e+00, -1.860000e+01,  3.459600e+02, -6.434856e+03],\n",
       "       [ 1.000000e+00, -1.850000e+01,  3.422500e+02, -6.331625e+03],\n",
       "       [ 1.000000e+00, -1.840000e+01,  3.385600e+02, -6.229504e+03],\n",
       "       [ 1.000000e+00, -1.830000e+01,  3.348900e+02, -6.128487e+03],\n",
       "       [ 1.000000e+00, -1.820000e+01,  3.312400e+02, -6.028568e+03],\n",
       "       [ 1.000000e+00, -1.810000e+01,  3.276100e+02, -5.929741e+03],\n",
       "       [ 1.000000e+00, -1.800000e+01,  3.240000e+02, -5.832000e+03],\n",
       "       [ 1.000000e+00, -1.790000e+01,  3.204100e+02, -5.735339e+03],\n",
       "       [ 1.000000e+00, -1.780000e+01,  3.168400e+02, -5.639752e+03],\n",
       "       [ 1.000000e+00, -1.770000e+01,  3.132900e+02, -5.545233e+03],\n",
       "       [ 1.000000e+00, -1.760000e+01,  3.097600e+02, -5.451776e+03],\n",
       "       [ 1.000000e+00, -1.750000e+01,  3.062500e+02, -5.359375e+03],\n",
       "       [ 1.000000e+00, -1.740000e+01,  3.027600e+02, -5.268024e+03],\n",
       "       [ 1.000000e+00, -1.730000e+01,  2.992900e+02, -5.177717e+03],\n",
       "       [ 1.000000e+00, -1.720000e+01,  2.958400e+02, -5.088448e+03],\n",
       "       [ 1.000000e+00, -1.710000e+01,  2.924100e+02, -5.000211e+03],\n",
       "       [ 1.000000e+00, -1.700000e+01,  2.890000e+02, -4.913000e+03],\n",
       "       [ 1.000000e+00, -1.690000e+01,  2.856100e+02, -4.826809e+03],\n",
       "       [ 1.000000e+00, -1.680000e+01,  2.822400e+02, -4.741632e+03],\n",
       "       [ 1.000000e+00, -1.670000e+01,  2.788900e+02, -4.657463e+03],\n",
       "       [ 1.000000e+00, -1.660000e+01,  2.755600e+02, -4.574296e+03],\n",
       "       [ 1.000000e+00, -1.650000e+01,  2.722500e+02, -4.492125e+03],\n",
       "       [ 1.000000e+00, -1.640000e+01,  2.689600e+02, -4.410944e+03],\n",
       "       [ 1.000000e+00, -1.630000e+01,  2.656900e+02, -4.330747e+03],\n",
       "       [ 1.000000e+00, -1.620000e+01,  2.624400e+02, -4.251528e+03],\n",
       "       [ 1.000000e+00, -1.610000e+01,  2.592100e+02, -4.173281e+03],\n",
       "       [ 1.000000e+00, -1.600000e+01,  2.560000e+02, -4.096000e+03],\n",
       "       [ 1.000000e+00, -1.590000e+01,  2.528100e+02, -4.019679e+03],\n",
       "       [ 1.000000e+00, -1.580000e+01,  2.496400e+02, -3.944312e+03],\n",
       "       [ 1.000000e+00, -1.570000e+01,  2.464900e+02, -3.869893e+03],\n",
       "       [ 1.000000e+00, -1.560000e+01,  2.433600e+02, -3.796416e+03],\n",
       "       [ 1.000000e+00, -1.550000e+01,  2.402500e+02, -3.723875e+03],\n",
       "       [ 1.000000e+00, -1.540000e+01,  2.371600e+02, -3.652264e+03],\n",
       "       [ 1.000000e+00, -1.530000e+01,  2.340900e+02, -3.581577e+03],\n",
       "       [ 1.000000e+00, -1.520000e+01,  2.310400e+02, -3.511808e+03],\n",
       "       [ 1.000000e+00, -1.510000e+01,  2.280100e+02, -3.442951e+03],\n",
       "       [ 1.000000e+00, -1.500000e+01,  2.250000e+02, -3.375000e+03],\n",
       "       [ 1.000000e+00, -1.490000e+01,  2.220100e+02, -3.307949e+03],\n",
       "       [ 1.000000e+00, -1.480000e+01,  2.190400e+02, -3.241792e+03],\n",
       "       [ 1.000000e+00, -1.470000e+01,  2.160900e+02, -3.176523e+03],\n",
       "       [ 1.000000e+00, -1.460000e+01,  2.131600e+02, -3.112136e+03],\n",
       "       [ 1.000000e+00, -1.450000e+01,  2.102500e+02, -3.048625e+03],\n",
       "       [ 1.000000e+00, -1.440000e+01,  2.073600e+02, -2.985984e+03],\n",
       "       [ 1.000000e+00, -1.430000e+01,  2.044900e+02, -2.924207e+03],\n",
       "       [ 1.000000e+00, -1.420000e+01,  2.016400e+02, -2.863288e+03],\n",
       "       [ 1.000000e+00, -1.410000e+01,  1.988100e+02, -2.803221e+03],\n",
       "       [ 1.000000e+00, -1.400000e+01,  1.960000e+02, -2.744000e+03],\n",
       "       [ 1.000000e+00, -1.390000e+01,  1.932100e+02, -2.685619e+03],\n",
       "       [ 1.000000e+00, -1.380000e+01,  1.904400e+02, -2.628072e+03],\n",
       "       [ 1.000000e+00, -1.370000e+01,  1.876900e+02, -2.571353e+03],\n",
       "       [ 1.000000e+00, -1.360000e+01,  1.849600e+02, -2.515456e+03],\n",
       "       [ 1.000000e+00, -1.350000e+01,  1.822500e+02, -2.460375e+03],\n",
       "       [ 1.000000e+00, -1.340000e+01,  1.795600e+02, -2.406104e+03],\n",
       "       [ 1.000000e+00, -1.330000e+01,  1.768900e+02, -2.352637e+03],\n",
       "       [ 1.000000e+00, -1.320000e+01,  1.742400e+02, -2.299968e+03],\n",
       "       [ 1.000000e+00, -1.310000e+01,  1.716100e+02, -2.248091e+03],\n",
       "       [ 1.000000e+00, -1.300000e+01,  1.690000e+02, -2.197000e+03],\n",
       "       [ 1.000000e+00, -1.290000e+01,  1.664100e+02, -2.146689e+03],\n",
       "       [ 1.000000e+00, -1.280000e+01,  1.638400e+02, -2.097152e+03],\n",
       "       [ 1.000000e+00, -1.270000e+01,  1.612900e+02, -2.048383e+03],\n",
       "       [ 1.000000e+00, -1.260000e+01,  1.587600e+02, -2.000376e+03],\n",
       "       [ 1.000000e+00, -1.250000e+01,  1.562500e+02, -1.953125e+03],\n",
       "       [ 1.000000e+00, -1.240000e+01,  1.537600e+02, -1.906624e+03],\n",
       "       [ 1.000000e+00, -1.230000e+01,  1.512900e+02, -1.860867e+03],\n",
       "       [ 1.000000e+00, -1.220000e+01,  1.488400e+02, -1.815848e+03],\n",
       "       [ 1.000000e+00, -1.210000e+01,  1.464100e+02, -1.771561e+03],\n",
       "       [ 1.000000e+00, -1.200000e+01,  1.440000e+02, -1.728000e+03],\n",
       "       [ 1.000000e+00, -1.190000e+01,  1.416100e+02, -1.685159e+03],\n",
       "       [ 1.000000e+00, -1.180000e+01,  1.392400e+02, -1.643032e+03],\n",
       "       [ 1.000000e+00, -1.170000e+01,  1.368900e+02, -1.601613e+03],\n",
       "       [ 1.000000e+00, -1.160000e+01,  1.345600e+02, -1.560896e+03],\n",
       "       [ 1.000000e+00, -1.150000e+01,  1.322500e+02, -1.520875e+03],\n",
       "       [ 1.000000e+00, -1.140000e+01,  1.299600e+02, -1.481544e+03],\n",
       "       [ 1.000000e+00, -1.130000e+01,  1.276900e+02, -1.442897e+03],\n",
       "       [ 1.000000e+00, -1.120000e+01,  1.254400e+02, -1.404928e+03],\n",
       "       [ 1.000000e+00, -1.110000e+01,  1.232100e+02, -1.367631e+03],\n",
       "       [ 1.000000e+00, -1.100000e+01,  1.210000e+02, -1.331000e+03],\n",
       "       [ 1.000000e+00, -1.090000e+01,  1.188100e+02, -1.295029e+03],\n",
       "       [ 1.000000e+00, -1.080000e+01,  1.166400e+02, -1.259712e+03],\n",
       "       [ 1.000000e+00, -1.070000e+01,  1.144900e+02, -1.225043e+03],\n",
       "       [ 1.000000e+00, -1.060000e+01,  1.123600e+02, -1.191016e+03],\n",
       "       [ 1.000000e+00, -1.050000e+01,  1.102500e+02, -1.157625e+03],\n",
       "       [ 1.000000e+00, -1.040000e+01,  1.081600e+02, -1.124864e+03],\n",
       "       [ 1.000000e+00, -1.030000e+01,  1.060900e+02, -1.092727e+03],\n",
       "       [ 1.000000e+00, -1.020000e+01,  1.040400e+02, -1.061208e+03],\n",
       "       [ 1.000000e+00, -1.010000e+01,  1.020100e+02, -1.030301e+03],\n",
       "       [ 1.000000e+00, -1.000000e+01,  1.000000e+02, -1.000000e+03],\n",
       "       [ 1.000000e+00, -9.900000e+00,  9.801000e+01, -9.702990e+02],\n",
       "       [ 1.000000e+00, -9.800000e+00,  9.604000e+01, -9.411920e+02],\n",
       "       [ 1.000000e+00, -9.700000e+00,  9.409000e+01, -9.126730e+02],\n",
       "       [ 1.000000e+00, -9.600000e+00,  9.216000e+01, -8.847360e+02],\n",
       "       [ 1.000000e+00, -9.500000e+00,  9.025000e+01, -8.573750e+02],\n",
       "       [ 1.000000e+00, -9.400000e+00,  8.836000e+01, -8.305840e+02],\n",
       "       [ 1.000000e+00, -9.300000e+00,  8.649000e+01, -8.043570e+02],\n",
       "       [ 1.000000e+00, -9.200000e+00,  8.464000e+01, -7.786880e+02],\n",
       "       [ 1.000000e+00, -9.100000e+00,  8.281000e+01, -7.535710e+02],\n",
       "       [ 1.000000e+00, -9.000000e+00,  8.100000e+01, -7.290000e+02],\n",
       "       [ 1.000000e+00, -8.900000e+00,  7.921000e+01, -7.049690e+02],\n",
       "       [ 1.000000e+00, -8.800000e+00,  7.744000e+01, -6.814720e+02],\n",
       "       [ 1.000000e+00, -8.700000e+00,  7.569000e+01, -6.585030e+02],\n",
       "       [ 1.000000e+00, -8.600000e+00,  7.396000e+01, -6.360560e+02],\n",
       "       [ 1.000000e+00, -8.500000e+00,  7.225000e+01, -6.141250e+02],\n",
       "       [ 1.000000e+00, -8.400000e+00,  7.056000e+01, -5.927040e+02],\n",
       "       [ 1.000000e+00, -8.300000e+00,  6.889000e+01, -5.717870e+02],\n",
       "       [ 1.000000e+00, -8.200000e+00,  6.724000e+01, -5.513680e+02],\n",
       "       [ 1.000000e+00, -8.100000e+00,  6.561000e+01, -5.314410e+02],\n",
       "       [ 1.000000e+00, -8.000000e+00,  6.400000e+01, -5.120000e+02],\n",
       "       [ 1.000000e+00, -7.900000e+00,  6.241000e+01, -4.930390e+02],\n",
       "       [ 1.000000e+00, -7.800000e+00,  6.084000e+01, -4.745520e+02],\n",
       "       [ 1.000000e+00, -7.700000e+00,  5.929000e+01, -4.565330e+02],\n",
       "       [ 1.000000e+00, -7.600000e+00,  5.776000e+01, -4.389760e+02],\n",
       "       [ 1.000000e+00, -7.500000e+00,  5.625000e+01, -4.218750e+02],\n",
       "       [ 1.000000e+00, -7.400000e+00,  5.476000e+01, -4.052240e+02],\n",
       "       [ 1.000000e+00, -7.300000e+00,  5.329000e+01, -3.890170e+02],\n",
       "       [ 1.000000e+00, -7.200000e+00,  5.184000e+01, -3.732480e+02],\n",
       "       [ 1.000000e+00, -7.100000e+00,  5.041000e+01, -3.579110e+02],\n",
       "       [ 1.000000e+00, -7.000000e+00,  4.900000e+01, -3.430000e+02],\n",
       "       [ 1.000000e+00, -6.900000e+00,  4.761000e+01, -3.285090e+02],\n",
       "       [ 1.000000e+00, -6.800000e+00,  4.624000e+01, -3.144320e+02],\n",
       "       [ 1.000000e+00, -6.700000e+00,  4.489000e+01, -3.007630e+02],\n",
       "       [ 1.000000e+00, -6.600000e+00,  4.356000e+01, -2.874960e+02],\n",
       "       [ 1.000000e+00, -6.500000e+00,  4.225000e+01, -2.746250e+02],\n",
       "       [ 1.000000e+00, -6.400000e+00,  4.096000e+01, -2.621440e+02],\n",
       "       [ 1.000000e+00, -6.300000e+00,  3.969000e+01, -2.500470e+02],\n",
       "       [ 1.000000e+00, -6.200000e+00,  3.844000e+01, -2.383280e+02],\n",
       "       [ 1.000000e+00, -6.100000e+00,  3.721000e+01, -2.269810e+02],\n",
       "       [ 1.000000e+00, -6.000000e+00,  3.600000e+01, -2.160000e+02],\n",
       "       [ 1.000000e+00, -5.900000e+00,  3.481000e+01, -2.053790e+02],\n",
       "       [ 1.000000e+00, -5.800000e+00,  3.364000e+01, -1.951120e+02],\n",
       "       [ 1.000000e+00, -5.700000e+00,  3.249000e+01, -1.851930e+02],\n",
       "       [ 1.000000e+00, -5.600000e+00,  3.136000e+01, -1.756160e+02],\n",
       "       [ 1.000000e+00, -5.500000e+00,  3.025000e+01, -1.663750e+02],\n",
       "       [ 1.000000e+00, -5.400000e+00,  2.916000e+01, -1.574640e+02],\n",
       "       [ 1.000000e+00, -5.300000e+00,  2.809000e+01, -1.488770e+02],\n",
       "       [ 1.000000e+00, -5.200000e+00,  2.704000e+01, -1.406080e+02],\n",
       "       [ 1.000000e+00, -5.100000e+00,  2.601000e+01, -1.326510e+02],\n",
       "       [ 1.000000e+00, -5.000000e+00,  2.500000e+01, -1.250000e+02],\n",
       "       [ 1.000000e+00, -4.900000e+00,  2.401000e+01, -1.176490e+02],\n",
       "       [ 1.000000e+00, -4.800000e+00,  2.304000e+01, -1.105920e+02],\n",
       "       [ 1.000000e+00, -4.700000e+00,  2.209000e+01, -1.038230e+02],\n",
       "       [ 1.000000e+00, -4.600000e+00,  2.116000e+01, -9.733600e+01],\n",
       "       [ 1.000000e+00, -4.500000e+00,  2.025000e+01, -9.112500e+01],\n",
       "       [ 1.000000e+00, -4.400000e+00,  1.936000e+01, -8.518400e+01],\n",
       "       [ 1.000000e+00, -4.300000e+00,  1.849000e+01, -7.950700e+01],\n",
       "       [ 1.000000e+00, -4.200000e+00,  1.764000e+01, -7.408800e+01],\n",
       "       [ 1.000000e+00, -4.100000e+00,  1.681000e+01, -6.892100e+01],\n",
       "       [ 1.000000e+00, -4.000000e+00,  1.600000e+01, -6.400000e+01],\n",
       "       [ 1.000000e+00, -3.900000e+00,  1.521000e+01, -5.931900e+01],\n",
       "       [ 1.000000e+00, -3.800000e+00,  1.444000e+01, -5.487200e+01],\n",
       "       [ 1.000000e+00, -3.700000e+00,  1.369000e+01, -5.065300e+01],\n",
       "       [ 1.000000e+00, -3.600000e+00,  1.296000e+01, -4.665600e+01],\n",
       "       [ 1.000000e+00, -3.500000e+00,  1.225000e+01, -4.287500e+01],\n",
       "       [ 1.000000e+00, -3.400000e+00,  1.156000e+01, -3.930400e+01],\n",
       "       [ 1.000000e+00, -3.300000e+00,  1.089000e+01, -3.593700e+01],\n",
       "       [ 1.000000e+00, -3.200000e+00,  1.024000e+01, -3.276800e+01],\n",
       "       [ 1.000000e+00, -3.100000e+00,  9.610000e+00, -2.979100e+01],\n",
       "       [ 1.000000e+00, -3.000000e+00,  9.000000e+00, -2.700000e+01],\n",
       "       [ 1.000000e+00, -2.900000e+00,  8.410000e+00, -2.438900e+01],\n",
       "       [ 1.000000e+00, -2.800000e+00,  7.840000e+00, -2.195200e+01],\n",
       "       [ 1.000000e+00, -2.700000e+00,  7.290000e+00, -1.968300e+01],\n",
       "       [ 1.000000e+00, -2.600000e+00,  6.760000e+00, -1.757600e+01],\n",
       "       [ 1.000000e+00, -2.500000e+00,  6.250000e+00, -1.562500e+01],\n",
       "       [ 1.000000e+00, -2.400000e+00,  5.760000e+00, -1.382400e+01],\n",
       "       [ 1.000000e+00, -2.300000e+00,  5.290000e+00, -1.216700e+01],\n",
       "       [ 1.000000e+00, -2.200000e+00,  4.840000e+00, -1.064800e+01],\n",
       "       [ 1.000000e+00, -2.100000e+00,  4.410000e+00, -9.261000e+00],\n",
       "       [ 1.000000e+00, -2.000000e+00,  4.000000e+00, -8.000000e+00],\n",
       "       [ 1.000000e+00, -1.900000e+00,  3.610000e+00, -6.859000e+00],\n",
       "       [ 1.000000e+00, -1.800000e+00,  3.240000e+00, -5.832000e+00],\n",
       "       [ 1.000000e+00, -1.700000e+00,  2.890000e+00, -4.913000e+00],\n",
       "       [ 1.000000e+00, -1.600000e+00,  2.560000e+00, -4.096000e+00],\n",
       "       [ 1.000000e+00, -1.500000e+00,  2.250000e+00, -3.375000e+00],\n",
       "       [ 1.000000e+00, -1.400000e+00,  1.960000e+00, -2.744000e+00],\n",
       "       [ 1.000000e+00, -1.300000e+00,  1.690000e+00, -2.197000e+00],\n",
       "       [ 1.000000e+00, -1.200000e+00,  1.440000e+00, -1.728000e+00],\n",
       "       [ 1.000000e+00, -1.100000e+00,  1.210000e+00, -1.331000e+00]])"
      ]
     },
     "execution_count": 31,
     "metadata": {},
     "output_type": "execute_result"
    }
   ],
   "source": [
    "x_11 = 11\n",
    "Anew = np.vstack([\n",
    "    (x - x_11) ** order for order in range(porder)\n",
    "]).T\n",
    "Anew"
   ]
  },
  {
   "cell_type": "code",
   "execution_count": 32,
   "id": "97872425-9aee-4eb0-8cc1-061ad3455c6e",
   "metadata": {},
   "outputs": [],
   "source": []
  },
  {
   "cell_type": "code",
   "execution_count": 33,
   "id": "7db1454d-c9ba-4f26-a311-cd8b7868b404",
   "metadata": {},
   "outputs": [
    {
     "data": {
      "text/plain": [
       "array([27063407.17393597])"
      ]
     },
     "execution_count": 33,
     "metadata": {},
     "output_type": "execute_result"
    }
   ],
   "source": [
    "y_11"
   ]
  },
  {
   "cell_type": "code",
   "execution_count": 25,
   "id": "9ead65af-9757-4a39-87c6-6dc8e4a8f464",
   "metadata": {
    "tags": []
   },
   "outputs": [
    {
     "ename": "AssertionError",
     "evalue": "",
     "output_type": "error",
     "traceback": [
      "\u001b[0;31m---------------------------------------------------------------------------\u001b[0m",
      "\u001b[0;31mAssertionError\u001b[0m                            Traceback (most recent call last)",
      "Cell \u001b[0;32mIn[25], line 1\u001b[0m\n\u001b[0;32m----> 1\u001b[0m \u001b[38;5;28;01massert\u001b[39;00m y_11 \u001b[38;5;241m==\u001b[39m \u001b[38;5;241m181.83203225825352\u001b[39m\n",
      "\u001b[0;31mAssertionError\u001b[0m: "
     ]
    }
   ],
   "source": [
    "assert y_11 == 181.83203225825352"
   ]
  },
  {
   "cell_type": "markdown",
   "id": "490307a1-6fa0-4afe-bed4-f1aa8abf2c18",
   "metadata": {},
   "source": [
    "## Step 5: Estimate the error on the model at new point\n",
    "\n",
    "Use `np.random.multivariate_normal` to estimate the model error at  $x = 11$.\n",
    "\n",
    "Overwrite `y_11_err` below with your answer."
   ]
  },
  {
   "cell_type": "code",
   "execution_count": 12,
   "id": "bbc93e8f-5f0e-4fc3-a033-b6df5782feb2",
   "metadata": {
    "tags": []
   },
   "outputs": [],
   "source": [
    "y_11_err = None"
   ]
  },
  {
   "cell_type": "code",
   "execution_count": 13,
   "id": "8cddad5c-22c6-4e08-94f6-ddc08734355b",
   "metadata": {
    "tags": []
   },
   "outputs": [],
   "source": [
    "assert np.isclose(y_11_err, 12, atol=2)"
   ]
  }
 ],
 "metadata": {
  "kernelspec": {
   "display_name": "Python 3 (ipykernel)",
   "language": "python",
   "name": "python3"
  },
  "language_info": {
   "codemirror_mode": {
    "name": "ipython",
    "version": 3
   },
   "file_extension": ".py",
   "mimetype": "text/x-python",
   "name": "python",
   "nbconvert_exporter": "python",
   "pygments_lexer": "ipython3",
   "version": "3.12.0"
  }
 },
 "nbformat": 4,
 "nbformat_minor": 5
}
